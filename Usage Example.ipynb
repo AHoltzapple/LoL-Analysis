{
 "cells": [
  {
   "cell_type": "markdown",
   "metadata": {},
   "source": [
    "# lolapi.py Usage\n",
    "\n",
    "Below is a demonstration of how to use the lolapi.py wrapper to retreive match data from the Riot Games API."
   ]
  },
  {
   "cell_type": "code",
   "execution_count": 1,
   "metadata": {},
   "outputs": [],
   "source": [
    "import lolapi as la"
   ]
  },
  {
   "cell_type": "markdown",
   "metadata": {},
   "source": [
    "Input `apikey` and `summonername`.\n",
    "\n",
    "API key is assigned through the [Riot Developer Portal](https://developer.riotgames.com/).\n",
    "\n",
    "Summoner name is the player's name as it appears in game (capitalization must match)."
   ]
  },
  {
   "cell_type": "code",
   "execution_count": 20,
   "metadata": {},
   "outputs": [],
   "source": [
    "apikey = ''\n",
    "summonername = ''"
   ]
  },
  {
   "cell_type": "markdown",
   "metadata": {},
   "source": [
    "Encrypted account ID is retrieved using the `retrieve_accountid()` function:"
   ]
  },
  {
   "cell_type": "code",
   "execution_count": 21,
   "metadata": {},
   "outputs": [],
   "source": [
    "accountid = la.retrieve_accountid(apikey, summonername)"
   ]
  },
  {
   "cell_type": "markdown",
   "metadata": {},
   "source": [
    "Pass the `accountid` to collect matches for that account.\n",
    "\n",
    "Several filter parameters are available to use:\n",
    "`champion` - ID of champion\n",
    "`queue` - Queue type ID\n",
    "`endtime` - End time of match in epoch seconds\n",
    "`begintime` - Begin time of match in epoch seconds\n",
    "`limit` - Limit number of matches to retrieve\n",
    "`server` - Server ID (e.g. 'na1' for North America)\n",
    "\n",
    "In this example, queue ID 450 is used to filter for the 'ARAM' game mode.\n",
    "\n",
    "If collecting over 1000 matches the request may receive a timeout error. If this happens the program will wait 2 minutes, then continue with the request. Riot API only allows for 100 requests every 2 minutes."
   ]
  },
  {
   "cell_type": "code",
   "execution_count": 4,
   "metadata": {},
   "outputs": [
    {
     "name": "stdout",
     "output_type": "stream",
     "text": [
      "100 matches retrieved.\n"
     ]
    }
   ],
   "source": [
    "account_matches_df = la.retrieve_account_matches(apikey, accountid, limit=100, queue=450)\n",
    "print(str(len(account_matches_df)) + ' matches retrieved.')"
   ]
  },
  {
   "cell_type": "code",
   "execution_count": 5,
   "metadata": {},
   "outputs": [
    {
     "name": "stdout",
     "output_type": "stream",
     "text": [
      "champion\n",
      "gameId\n",
      "lane\n",
      "platformId\n",
      "queue\n",
      "role\n",
      "season\n",
      "timestamp\n"
     ]
    }
   ],
   "source": [
    "for column in account_matches_df.columns:\n",
    "    print(column)"
   ]
  },
  {
   "cell_type": "markdown",
   "metadata": {},
   "source": [
    "Use the 'gameId' column from the retrieved matches as an input for the `retrieve_match_data()` function. This will bring in the detailed data for each match. Due to the request volume restriction the program will pause for 2 mins when it receives a timeout or resource exceeded response. If it receives a second error after waiting it will cancel.\n",
    "\n",
    "Use the `limit` parameter to select only a specific number of matches. These are collected in the same order as the list of match IDs given. If given limit is over the total possible matches it will collect all matches.\n",
    "\n",
    "The server parameter is available in this function, though it should match the server ID used in `retrieve_account_matches()`."
   ]
  },
  {
   "cell_type": "code",
   "execution_count": 6,
   "metadata": {},
   "outputs": [
    {
     "name": "stdout",
     "output_type": "stream",
     "text": [
      "Collecting 5 matches.\n",
      "5 matches collected.\n"
     ]
    }
   ],
   "source": [
    "match_detail_data = la.retrieve_match_data(apikey, account_matches_df['gameId'], limit=5)"
   ]
  },
  {
   "cell_type": "markdown",
   "metadata": {},
   "source": [
    "The collected match data can be parsed using the `parse_match_data()` function. The match data is parsed into 3 separate dataframes:\n",
    "`match_data_df` - Contains overall match data\n",
    "`player_data_df` - Contains info and metrics for individual players\n",
    "`team_data_df` - Contains info and metrics for each team\n",
    "\n",
    "The resulting dataframes can be connected via the `gameId` column as a primary key. Each `gameId` will have 2 teams with IDs of '100' and '200', and 10 players with player IDs from 1 to 10. These dataframes can be used in a relational database."
   ]
  },
  {
   "cell_type": "code",
   "execution_count": 7,
   "metadata": {},
   "outputs": [
    {
     "data": {
      "text/html": [
       "<div>\n",
       "<style scoped>\n",
       "    .dataframe tbody tr th:only-of-type {\n",
       "        vertical-align: middle;\n",
       "    }\n",
       "\n",
       "    .dataframe tbody tr th {\n",
       "        vertical-align: top;\n",
       "    }\n",
       "\n",
       "    .dataframe thead th {\n",
       "        text-align: right;\n",
       "    }\n",
       "</style>\n",
       "<table border=\"1\" class=\"dataframe\">\n",
       "  <thead>\n",
       "    <tr style=\"text-align: right;\">\n",
       "      <th></th>\n",
       "      <th>creation</th>\n",
       "      <th>duration</th>\n",
       "      <th>gameid</th>\n",
       "      <th>mapid</th>\n",
       "      <th>mode</th>\n",
       "      <th>platformid</th>\n",
       "      <th>queueid</th>\n",
       "      <th>seasonid</th>\n",
       "      <th>type</th>\n",
       "      <th>version</th>\n",
       "    </tr>\n",
       "  </thead>\n",
       "  <tbody>\n",
       "    <tr>\n",
       "      <th>0</th>\n",
       "      <td>1598575166222</td>\n",
       "      <td>971</td>\n",
       "      <td>3552641376</td>\n",
       "      <td>12</td>\n",
       "      <td>ARAM</td>\n",
       "      <td>NA1</td>\n",
       "      <td>450</td>\n",
       "      <td>13</td>\n",
       "      <td>MATCHED_GAME</td>\n",
       "      <td>10.16.330.9186</td>\n",
       "    </tr>\n",
       "  </tbody>\n",
       "</table>\n",
       "</div>"
      ],
      "text/plain": [
       "        creation  duration      gameid  mapid  mode platformid  queueid  \\\n",
       "0  1598575166222       971  3552641376     12  ARAM        NA1      450   \n",
       "\n",
       "   seasonid          type         version  \n",
       "0        13  MATCHED_GAME  10.16.330.9186  "
      ]
     },
     "execution_count": 7,
     "metadata": {},
     "output_type": "execute_result"
    }
   ],
   "source": [
    "match_data_df, player_data_df, team_data_df = la.parse_match_data(match_detail_data)\n",
    "\n",
    "match_data_df.head(1)"
   ]
  },
  {
   "cell_type": "code",
   "execution_count": 8,
   "metadata": {},
   "outputs": [
    {
     "data": {
      "text/html": [
       "<div>\n",
       "<style scoped>\n",
       "    .dataframe tbody tr th:only-of-type {\n",
       "        vertical-align: middle;\n",
       "    }\n",
       "\n",
       "    .dataframe tbody tr th {\n",
       "        vertical-align: top;\n",
       "    }\n",
       "\n",
       "    .dataframe thead th {\n",
       "        text-align: right;\n",
       "    }\n",
       "</style>\n",
       "<table border=\"1\" class=\"dataframe\">\n",
       "  <thead>\n",
       "    <tr style=\"text-align: right;\">\n",
       "      <th></th>\n",
       "      <th>assists</th>\n",
       "      <th>champLevel</th>\n",
       "      <th>championid</th>\n",
       "      <th>combatPlayerScore</th>\n",
       "      <th>damageDealtToObjectives</th>\n",
       "      <th>damageDealtToTurrets</th>\n",
       "      <th>damageSelfMitigated</th>\n",
       "      <th>deaths</th>\n",
       "      <th>doubleKills</th>\n",
       "      <th>firstBloodAssist</th>\n",
       "      <th>...</th>\n",
       "      <th>totalUnitsHealed</th>\n",
       "      <th>tripleKills</th>\n",
       "      <th>trueDamageDealt</th>\n",
       "      <th>trueDamageDealtToChampions</th>\n",
       "      <th>trueDamageTaken</th>\n",
       "      <th>turretKills</th>\n",
       "      <th>unrealKills</th>\n",
       "      <th>visionScore</th>\n",
       "      <th>visionWardsBoughtInGame</th>\n",
       "      <th>win</th>\n",
       "    </tr>\n",
       "  </thead>\n",
       "  <tbody>\n",
       "    <tr>\n",
       "      <th>0</th>\n",
       "      <td>22</td>\n",
       "      <td>16</td>\n",
       "      <td>42</td>\n",
       "      <td>0</td>\n",
       "      <td>461</td>\n",
       "      <td>461</td>\n",
       "      <td>5593</td>\n",
       "      <td>4</td>\n",
       "      <td>0</td>\n",
       "      <td>False</td>\n",
       "      <td>...</td>\n",
       "      <td>4</td>\n",
       "      <td>0</td>\n",
       "      <td>0</td>\n",
       "      <td>0</td>\n",
       "      <td>602</td>\n",
       "      <td>0</td>\n",
       "      <td>0</td>\n",
       "      <td>0</td>\n",
       "      <td>0</td>\n",
       "      <td>True</td>\n",
       "    </tr>\n",
       "  </tbody>\n",
       "</table>\n",
       "<p>1 rows × 106 columns</p>\n",
       "</div>"
      ],
      "text/plain": [
       "   assists  champLevel  championid  combatPlayerScore  \\\n",
       "0       22          16          42                  0   \n",
       "\n",
       "   damageDealtToObjectives  damageDealtToTurrets  damageSelfMitigated  deaths  \\\n",
       "0                      461                   461                 5593       4   \n",
       "\n",
       "   doubleKills  firstBloodAssist  ...  totalUnitsHealed  tripleKills  \\\n",
       "0            0             False  ...                 4            0   \n",
       "\n",
       "   trueDamageDealt  trueDamageDealtToChampions  trueDamageTaken  turretKills  \\\n",
       "0                0                           0              602            0   \n",
       "\n",
       "   unrealKills  visionScore  visionWardsBoughtInGame   win  \n",
       "0            0            0                        0  True  \n",
       "\n",
       "[1 rows x 106 columns]"
      ]
     },
     "execution_count": 8,
     "metadata": {},
     "output_type": "execute_result"
    }
   ],
   "source": [
    "player_data_df.head(1)"
   ]
  },
  {
   "cell_type": "code",
   "execution_count": 9,
   "metadata": {},
   "outputs": [
    {
     "data": {
      "text/html": [
       "<div>\n",
       "<style scoped>\n",
       "    .dataframe tbody tr th:only-of-type {\n",
       "        vertical-align: middle;\n",
       "    }\n",
       "\n",
       "    .dataframe tbody tr th {\n",
       "        vertical-align: top;\n",
       "    }\n",
       "\n",
       "    .dataframe thead th {\n",
       "        text-align: right;\n",
       "    }\n",
       "</style>\n",
       "<table border=\"1\" class=\"dataframe\">\n",
       "  <thead>\n",
       "    <tr style=\"text-align: right;\">\n",
       "      <th></th>\n",
       "      <th>bans</th>\n",
       "      <th>baronKills</th>\n",
       "      <th>dominionVictoryScore</th>\n",
       "      <th>dragonKills</th>\n",
       "      <th>firstBaron</th>\n",
       "      <th>firstBlood</th>\n",
       "      <th>firstDragon</th>\n",
       "      <th>firstInhibitor</th>\n",
       "      <th>firstRiftHerald</th>\n",
       "      <th>firstTower</th>\n",
       "      <th>gameid</th>\n",
       "      <th>inhibitorKills</th>\n",
       "      <th>riftHeraldKills</th>\n",
       "      <th>teamId</th>\n",
       "      <th>towerKills</th>\n",
       "      <th>vilemawKills</th>\n",
       "      <th>win</th>\n",
       "    </tr>\n",
       "  </thead>\n",
       "  <tbody>\n",
       "    <tr>\n",
       "      <th>0</th>\n",
       "      <td>[]</td>\n",
       "      <td>0</td>\n",
       "      <td>0</td>\n",
       "      <td>0</td>\n",
       "      <td>False</td>\n",
       "      <td>False</td>\n",
       "      <td>False</td>\n",
       "      <td>True</td>\n",
       "      <td>False</td>\n",
       "      <td>False</td>\n",
       "      <td>3552641376</td>\n",
       "      <td>1</td>\n",
       "      <td>0</td>\n",
       "      <td>100</td>\n",
       "      <td>4</td>\n",
       "      <td>0</td>\n",
       "      <td>Win</td>\n",
       "    </tr>\n",
       "  </tbody>\n",
       "</table>\n",
       "</div>"
      ],
      "text/plain": [
       "  bans  baronKills  dominionVictoryScore  dragonKills  firstBaron  firstBlood  \\\n",
       "0   []           0                     0            0       False       False   \n",
       "\n",
       "   firstDragon  firstInhibitor  firstRiftHerald  firstTower      gameid  \\\n",
       "0        False            True            False       False  3552641376   \n",
       "\n",
       "   inhibitorKills  riftHeraldKills  teamId  towerKills  vilemawKills  win  \n",
       "0               1                0     100           4             0  Win  "
      ]
     },
     "execution_count": 9,
     "metadata": {},
     "output_type": "execute_result"
    }
   ],
   "source": [
    "team_data_df.head(1)"
   ]
  },
  {
   "cell_type": "markdown",
   "metadata": {},
   "source": [
    "Champion data is another valuable piece of information and can be retrieved using the `retrieve_champ_info()` function. This collects overall data for the champion not related to specific match performance and outputs as a dataframe. Champion info can be tied to players using the champion ID."
   ]
  },
  {
   "cell_type": "code",
   "execution_count": 14,
   "metadata": {},
   "outputs": [
    {
     "data": {
      "text/html": [
       "<div>\n",
       "<style scoped>\n",
       "    .dataframe tbody tr th:only-of-type {\n",
       "        vertical-align: middle;\n",
       "    }\n",
       "\n",
       "    .dataframe tbody tr th {\n",
       "        vertical-align: top;\n",
       "    }\n",
       "\n",
       "    .dataframe thead th {\n",
       "        text-align: right;\n",
       "    }\n",
       "</style>\n",
       "<table border=\"1\" class=\"dataframe\">\n",
       "  <thead>\n",
       "    <tr style=\"text-align: right;\">\n",
       "      <th></th>\n",
       "      <th>attack</th>\n",
       "      <th>defense</th>\n",
       "      <th>difficulty</th>\n",
       "      <th>id</th>\n",
       "      <th>magic</th>\n",
       "      <th>name</th>\n",
       "      <th>role</th>\n",
       "    </tr>\n",
       "  </thead>\n",
       "  <tbody>\n",
       "    <tr>\n",
       "      <th>0</th>\n",
       "      <td>8</td>\n",
       "      <td>4</td>\n",
       "      <td>4</td>\n",
       "      <td>266</td>\n",
       "      <td>3</td>\n",
       "      <td>Aatrox</td>\n",
       "      <td>Fighter</td>\n",
       "    </tr>\n",
       "    <tr>\n",
       "      <th>1</th>\n",
       "      <td>3</td>\n",
       "      <td>4</td>\n",
       "      <td>5</td>\n",
       "      <td>103</td>\n",
       "      <td>8</td>\n",
       "      <td>Ahri</td>\n",
       "      <td>Mage</td>\n",
       "    </tr>\n",
       "    <tr>\n",
       "      <th>2</th>\n",
       "      <td>5</td>\n",
       "      <td>3</td>\n",
       "      <td>7</td>\n",
       "      <td>84</td>\n",
       "      <td>8</td>\n",
       "      <td>Akali</td>\n",
       "      <td>Assassin</td>\n",
       "    </tr>\n",
       "    <tr>\n",
       "      <th>3</th>\n",
       "      <td>6</td>\n",
       "      <td>9</td>\n",
       "      <td>7</td>\n",
       "      <td>12</td>\n",
       "      <td>5</td>\n",
       "      <td>Alistar</td>\n",
       "      <td>Tank</td>\n",
       "    </tr>\n",
       "    <tr>\n",
       "      <th>4</th>\n",
       "      <td>2</td>\n",
       "      <td>6</td>\n",
       "      <td>3</td>\n",
       "      <td>32</td>\n",
       "      <td>8</td>\n",
       "      <td>Amumu</td>\n",
       "      <td>Tank</td>\n",
       "    </tr>\n",
       "  </tbody>\n",
       "</table>\n",
       "</div>"
      ],
      "text/plain": [
       "   attack  defense  difficulty   id  magic     name      role\n",
       "0       8        4           4  266      3   Aatrox   Fighter\n",
       "1       3        4           5  103      8     Ahri      Mage\n",
       "2       5        3           7   84      8    Akali  Assassin\n",
       "3       6        9           7   12      5  Alistar      Tank\n",
       "4       2        6           3   32      8    Amumu      Tank"
      ]
     },
     "execution_count": 14,
     "metadata": {},
     "output_type": "execute_result"
    }
   ],
   "source": [
    "champ_df = la.retrieve_champ_info()\n",
    "champ_df.head()"
   ]
  },
  {
   "cell_type": "markdown",
   "metadata": {},
   "source": [
    "Similar functions are available for items and summoner spells using `retrieve_item_info()` and `retrieve_spell_info()`. Use the IDs to join item and spell info to players."
   ]
  },
  {
   "cell_type": "code",
   "execution_count": 16,
   "metadata": {},
   "outputs": [
    {
     "data": {
      "text/html": [
       "<div>\n",
       "<style scoped>\n",
       "    .dataframe tbody tr th:only-of-type {\n",
       "        vertical-align: middle;\n",
       "    }\n",
       "\n",
       "    .dataframe tbody tr th {\n",
       "        vertical-align: top;\n",
       "    }\n",
       "\n",
       "    .dataframe thead th {\n",
       "        text-align: right;\n",
       "    }\n",
       "</style>\n",
       "<table border=\"1\" class=\"dataframe\">\n",
       "  <thead>\n",
       "    <tr style=\"text-align: right;\">\n",
       "      <th></th>\n",
       "      <th>basecost</th>\n",
       "      <th>id</th>\n",
       "      <th>name</th>\n",
       "      <th>totalcost</th>\n",
       "    </tr>\n",
       "  </thead>\n",
       "  <tbody>\n",
       "    <tr>\n",
       "      <th>0</th>\n",
       "      <td>300</td>\n",
       "      <td>1001</td>\n",
       "      <td>Boots of Speed</td>\n",
       "      <td>300</td>\n",
       "    </tr>\n",
       "  </tbody>\n",
       "</table>\n",
       "</div>"
      ],
      "text/plain": [
       "   basecost    id            name  totalcost\n",
       "0       300  1001  Boots of Speed        300"
      ]
     },
     "execution_count": 16,
     "metadata": {},
     "output_type": "execute_result"
    }
   ],
   "source": [
    "item_df = la.retrieve_item_info()\n",
    "item_df.head(1)"
   ]
  },
  {
   "cell_type": "code",
   "execution_count": 17,
   "metadata": {},
   "outputs": [
    {
     "data": {
      "text/html": [
       "<div>\n",
       "<style scoped>\n",
       "    .dataframe tbody tr th:only-of-type {\n",
       "        vertical-align: middle;\n",
       "    }\n",
       "\n",
       "    .dataframe tbody tr th {\n",
       "        vertical-align: top;\n",
       "    }\n",
       "\n",
       "    .dataframe thead th {\n",
       "        text-align: right;\n",
       "    }\n",
       "</style>\n",
       "<table border=\"1\" class=\"dataframe\">\n",
       "  <thead>\n",
       "    <tr style=\"text-align: right;\">\n",
       "      <th></th>\n",
       "      <th>id</th>\n",
       "      <th>name</th>\n",
       "    </tr>\n",
       "  </thead>\n",
       "  <tbody>\n",
       "    <tr>\n",
       "      <th>0</th>\n",
       "      <td>21</td>\n",
       "      <td>Barrier</td>\n",
       "    </tr>\n",
       "  </tbody>\n",
       "</table>\n",
       "</div>"
      ],
      "text/plain": [
       "   id     name\n",
       "0  21  Barrier"
      ]
     },
     "execution_count": 17,
     "metadata": {},
     "output_type": "execute_result"
    }
   ],
   "source": [
    "spell_df = la.retrieve_spell_info()\n",
    "spell_df.head(1)"
   ]
  }
 ],
 "metadata": {
  "kernelspec": {
   "display_name": "Python 3",
   "language": "python",
   "name": "python3"
  },
  "language_info": {
   "codemirror_mode": {
    "name": "ipython",
    "version": 3
   },
   "file_extension": ".py",
   "mimetype": "text/x-python",
   "name": "python",
   "nbconvert_exporter": "python",
   "pygments_lexer": "ipython3",
   "version": "3.7.4"
  }
 },
 "nbformat": 4,
 "nbformat_minor": 2
}
