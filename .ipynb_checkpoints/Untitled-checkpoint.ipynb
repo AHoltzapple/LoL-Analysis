{
 "cells": [
  {
   "cell_type": "markdown",
   "metadata": {},
   "source": [
    "Library Import"
   ]
  },
  {
   "cell_type": "code",
   "execution_count": 1,
   "metadata": {},
   "outputs": [],
   "source": [
    "from selenium import webdriver\n",
    "from selenium.webdriver.common.keys import Keys\n",
    "from bs4 import BeautifulSoup\n",
    "import pandas as pd\n",
    "import time\n",
    "import re\n",
    "import seaborn as sns"
   ]
  },
  {
   "cell_type": "code",
   "execution_count": 2,
   "metadata": {},
   "outputs": [],
   "source": [
    "#Set path for Selenium web driver (FireFox):\n",
    "PATH = \"C:\\Program Files (x86)\\geckodriver.exe\"\n",
    "driver = webdriver.Firefox(executable_path = PATH)"
   ]
  },
  {
   "cell_type": "code",
   "execution_count": 3,
   "metadata": {},
   "outputs": [],
   "source": [
    "driver.get('https://u.gg/lol/profile/na1/erythro25/champion-stats?queueType=normal_aram')\n",
    "time.sleep(3)\n",
    "data_privacy_button = driver.find_element_by_css_selector('button')\n",
    "data_privacy_button.send_keys(Keys.RETURN)\n",
    "time.sleep(0.5)\n",
    "update_button = driver.find_element_by_css_selector('button')\n",
    "update_button.send_keys(Keys.RETURN)"
   ]
  },
  {
   "cell_type": "code",
   "execution_count": 4,
   "metadata": {},
   "outputs": [],
   "source": [
    "stat_table_html = driver.find_element_by_xpath('/html/body/div[1]/div/div[2]/div[2]/div/div/div[1]/div[3]/div/div/div[2]/div[1]').get_attribute('outerHTML')\n",
    "stat_table_soup = BeautifulSoup(stat_table_html)\n",
    "driver.close()\n",
    "stat_rows = stat_table_soup.find_all('div',attrs={'class':'rt-tr-group','role':'rowgroup'})"
   ]
  },
  {
   "cell_type": "code",
   "execution_count": 5,
   "metadata": {},
   "outputs": [],
   "source": [
    "champ_data = []\n",
    "for c in stat_rows:\n",
    "    c = c.find_all('div',attrs={'role':'gridcell'})\n",
    "    champ = []\n",
    "    for i, stat in enumerate(c):\n",
    "        if i != 4:\n",
    "            champ.append(stat.get_text())\n",
    "        elif i == 4:\n",
    "            kdas = stat.find_all('strong')\n",
    "            for n in kdas:\n",
    "                champ.append(n.get_text())\n",
    "    champ_data.append(champ)"
   ]
  },
  {
   "cell_type": "code",
   "execution_count": 6,
   "metadata": {},
   "outputs": [
    {
     "name": "stdout",
     "output_type": "stream",
     "text": [
      "  rank champion games winrate   kda kills deaths assists    gold    cs  \\\n",
      "0    1    Ziggs    12     67%  4.81   9.1    6.7    23.0  13,102  61.3   \n",
      "1    2    Amumu    12     58%  3.00   6.8    9.4    21.5  11,051  33.7   \n",
      "2    3   Twitch    10     40%  2.81   8.0    8.9    17.0  11,588  46.6   \n",
      "3    4  Vel'Koz     9     78%  6.47   9.2    5.4    26.0  14,405  60.9   \n",
      "4    5     Sona     8     88%  7.15   2.9    5.0    32.9  10,143  23.9   \n",
      "\n",
      "  maxkill maxdeath avgdmgdealt avgdmgtaken doubles triples quadras pentas  \n",
      "0      18       11      33,449      14,548      10       2       —      —  \n",
      "1      14       13      19,173      25,588       7       2       —      —  \n",
      "2      19       12      19,414      19,492      17       3       —      —  \n",
      "3      20       10      35,553      15,656      12       2       —      —  \n",
      "4       4        9       9,023      15,608       —       —       —      —  \n"
     ]
    }
   ],
   "source": [
    "champ_columns = ['rank','champion','games','winrate','kda','kills','deaths','assists','gold','cs','maxkill','maxdeath','avgdmgdealt','avgdmgtaken','doubles','triples','quadras','pentas']\n",
    "champ_data = pd.DataFrame(champ_data, columns=champ_columns)\n",
    "print(champ_data.head(5))"
   ]
  },
  {
   "cell_type": "code",
   "execution_count": 24,
   "metadata": {},
   "outputs": [
    {
     "name": "stdout",
     "output_type": "stream",
     "text": [
      "  rank champion  games winrate   kda kills deaths assists   gold    cs  \\\n",
      "0    1    Ziggs     12      67  4.81   9.1    6.7    23.0  13102  61.3   \n",
      "1    2    Amumu     12      58  3.00   6.8    9.4    21.5  11051  33.7   \n",
      "2    3   Twitch     10      40  2.81   8.0    8.9    17.0  11588  46.6   \n",
      "3    4  Vel'Koz      9      78  6.47   9.2    5.4    26.0  14405  60.9   \n",
      "4    5     Sona      8      88  7.15   2.9    5.0    32.9  10143  23.9   \n",
      "\n",
      "  maxkill maxdeath avgdmgdealt avgdmgtaken doubles triples quadras  pentas  \n",
      "0      18       11       33449       14548      10       2       0       0  \n",
      "1      14       13       19173       25588       7       2       0       0  \n",
      "2      19       12       19414       19492      17       3       0       0  \n",
      "3      20       10       35553       15656      12       2       0       0  \n",
      "4       4        9        9023       15608       0       0       0       0  \n",
      "rank            object\n",
      "champion        object\n",
      "games            int64\n",
      "winrate          int64\n",
      "kda            float64\n",
      "kills          float64\n",
      "deaths         float64\n",
      "assists        float64\n",
      "gold             int64\n",
      "cs             float64\n",
      "maxkill          int64\n",
      "maxdeath         int64\n",
      "avgdmgdealt      int64\n",
      "avgdmgtaken      int64\n",
      "doubles          int64\n",
      "triples          int64\n",
      "quadras          int64\n",
      "pentas           int64\n",
      "dtype: object\n"
     ]
    }
   ],
   "source": [
    "replacements = {'—':0,'%':'',',':''}\n",
    "champ_data = champ_data.replace(replacements, regex=True)\n",
    "print(champ_data.head(5))\n",
    "champ_data.loc[:,'games':'pentas'] = champ_data.loc[:,'games':'pentas'].apply(pd.to_numeric)\n",
    "print(champ_data.dtypes)"
   ]
  },
  {
   "cell_type": "code",
   "execution_count": null,
   "metadata": {},
   "outputs": [],
   "source": []
  }
 ],
 "metadata": {
  "kernelspec": {
   "display_name": "Python 3",
   "language": "python",
   "name": "python3"
  },
  "language_info": {
   "codemirror_mode": {
    "name": "ipython",
    "version": 3
   },
   "file_extension": ".py",
   "mimetype": "text/x-python",
   "name": "python",
   "nbconvert_exporter": "python",
   "pygments_lexer": "ipython3",
   "version": "3.7.4"
  }
 },
 "nbformat": 4,
 "nbformat_minor": 2
}
